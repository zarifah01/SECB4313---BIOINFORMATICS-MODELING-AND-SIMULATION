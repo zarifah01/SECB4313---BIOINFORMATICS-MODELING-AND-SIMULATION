{
  "nbformat": 4,
  "nbformat_minor": 0,
  "metadata": {
    "colab": {
      "provenance": [],
      "authorship_tag": "ABX9TyPHMQcNuC8+iGkkM00+/G/t",
      "include_colab_link": true
    },
    "kernelspec": {
      "name": "python3",
      "display_name": "Python 3"
    },
    "language_info": {
      "name": "python"
    }
  },
  "cells": [
    {
      "cell_type": "markdown",
      "metadata": {
        "id": "view-in-github",
        "colab_type": "text"
      },
      "source": [
        "<a href=\"https://colab.research.google.com/github/zarifah01/SECB4313-BIOINFORMATICS-MODELING-AND-SIMULATION/blob/main/Assignment1.ipynb\" target=\"_parent\"><img src=\"https://colab.research.google.com/assets/colab-badge.svg\" alt=\"Open In Colab\"/></a>"
      ]
    },
    {
      "cell_type": "code",
      "execution_count": null,
      "metadata": {
        "id": "MMWwh5cN6JoA"
      },
      "outputs": [],
      "source": [
        "\n",
        "from flask import Flask, render_template, request, redirect, url_for, after_this_request\n",
        "import numpy as np\n",
        "import matplotlib\n",
        "matplotlib.use('Agg')  # Use Agg backend\n",
        "import matplotlib.pyplot as plt\n",
        "from scipy.integrate import odeint\n",
        "\n",
        "app = Flask(__name__)\n",
        "\n",
        "# Define the model\n",
        "def model(y, t, rC, dC, rH, kIL, kCT, s, K):\n",
        "    C, H, IL, T, S = y\n",
        "    dCdt = rC * C * (1 - (T/K)) * (1 - S) - dC * C\n",
        "    dHdt = rH * H\n",
        "    dILdt = kIL * H\n",
        "    dTdt = -kCT * C * T\n",
        "    dSdt = s * T\n",
        "    return [dCdt, dHdt, dILdt, dTdt, dSdt]\n",
        "\n",
        "# Define the route for the homepage\n",
        "@app.route('/', methods=['GET', 'POST'])\n",
        "def home():\n",
        "    # Default values for the model parameters\n",
        "    rC = 0.1\n",
        "    dC = 0.05\n",
        "    rH = 0.0\n",
        "    kIL = 0.1\n",
        "    kCT = 0.01\n",
        "    s = 0.01\n",
        "    K = 1000\n",
        "\n",
        "    # If the form has been submitted, update the parameters\n",
        "    if request.method == 'POST':\n",
        "        rC = float(request.form.get('rC', 0.1))\n",
        "        dC = float(request.form.get('dC', 0.05))\n",
        "        rH = float(request.form.get('rH', 0.0))\n",
        "        kIL = float(request.form.get('kIL', 0.1))\n",
        "        kCT = float(request.form.get('kCT', 0.01))\n",
        "        s = float(request.form.get('s', 0.01))\n",
        "        K = float(request.form.get('K', 1000))\n",
        "\n",
        "        # Generate the plot\n",
        "        t = np.linspace(0, 100, 1000)\n",
        "        y0 = [50, 10, 0, 1000, 0]\n",
        "        sol = odeint(model, y0, t, args=(rC, dC, rH, kIL, kCT, s, K))\n",
        "\n",
        "        # Plot the results\n",
        "        fig, ax = plt.subplots()\n",
        "        ax.plot(t, sol[:,0], 'b', label='CTL cells')\n",
        "        ax.plot(t, sol[:,1], 'g', label='Th cells')\n",
        "        ax.plot(t, sol[:,2], 'r', label='IL-2')\n",
        "        ax.plot(t, sol[:,3], 'm', label='Tumour cells')\n",
        "        ax.plot(t, sol[:,4], 'y', label='Immune suppression factor')\n",
        "        ax.set_xlabel('Time')\n",
        "        ax.set_ylabel('Population')\n",
        "        ax.legend()\n",
        "        # Check this path:\n",
        "        plt.savefig('Assignment1/static/plot.png')\n",
        "\n",
        "\n",
        "        # Clear the current plot to avoid overlapping plots\n",
        "        plt.clf()\n",
        "\n",
        "        # Redirect to the results page\n",
        "        return redirect(url_for('results'))\n",
        "\n",
        "    # Render the homepage template with the default parameters\n",
        "    return render_template('index.html', rC=rC, dC=dC, rH=rH, kIL=kIL, kCT=kCT, s=s, K=K)\n",
        "\n",
        "# Define the route for the results page\n",
        "@app.route('/results')\n",
        "def results():\n",
        "    # Render the results template\n",
        "    return render_template('results.html')\n",
        "\n",
        "if __name__ == '__main__':\n",
        "    app.run(debug=True)\n"
      ]
    }
  ]
}